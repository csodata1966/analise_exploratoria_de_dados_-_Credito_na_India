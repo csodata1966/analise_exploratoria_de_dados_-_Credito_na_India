{
 "cells": [
  {
   "cell_type": "markdown",
   "metadata": {},
   "source": [
    "# Analise Exploratória de Dados - Cartão de Crédito na Índia\n",
    "\n",
    "Este conjunto de dados contém informações sobre as transações dos cartões de créditos na Índia, oferecendo uma visão abrangente dos hábitos de consumo dos indianos em todo o país. Desde o gênero e o tipo de cartão usado para realizar cada transação, até qual cidade teve o maior valor de gastos e até mesmo que tipo de despesas foram feitas, este conjunto de dados traça um quadro geral sobre como o dinheiro que está sendo gasto na Índia hoje. \n",
    "\n",
    "Com a sua variedade de variáveis, com isso temos a oportunidade de descobrir tendências mais profundas nos gastos desses clientes, bem como correlações interessantes entre pontos de dados que podem servir como inteligência empresarial inestimável. \n",
    "\n",
    "Dados utilizados: [Credit Card Spendings](https://www.kaggle.com/datasets/ayushchandramaurya/credit-card-spendings) da plataforma do [Kaggle](https://www.kaggle.com/).\n"
   ]
  },
  {
   "cell_type": "code",
   "execution_count": 1,
   "metadata": {},
   "outputs": [
    {
     "name": "stderr",
     "output_type": "stream",
     "text": [
      "C:\\Users\\020747631\\AppData\\Local\\Temp\\ipykernel_20460\\1247434761.py:3: DeprecationWarning: \n",
      "Pyarrow will become a required dependency of pandas in the next major release of pandas (pandas 3.0),\n",
      "(to allow more performant data types, such as the Arrow string type, and better interoperability with other libraries)\n",
      "but was not found to be installed on your system.\n",
      "If this would cause problems for you,\n",
      "please provide us feedback at https://github.com/pandas-dev/pandas/issues/54466\n",
      "        \n",
      "  import pandas as pd\n"
     ]
    }
   ],
   "source": [
    "# Bibliotecas utilizadas:\n",
    "\n",
    "import pandas as pd\n",
    "import matplotlib.pyplot as plt\n",
    "import os\n",
    "import seaborn as sns\n",
    "from datetime import datetime"
   ]
  },
  {
   "cell_type": "code",
   "execution_count": 2,
   "metadata": {},
   "outputs": [],
   "source": [
    "# Configurando o Pandas:\n",
    "\n",
    "pd.set_option('display.max.rows', None)\n",
    "pd.set_option('display.max.columns', None)\n",
    "pd.set_option('display.float_format', lambda x: '%.2f' % x)"
   ]
  },
  {
   "cell_type": "code",
   "execution_count": 3,
   "metadata": {},
   "outputs": [],
   "source": [
    "# Lendo o arquivo CSV:\n",
    "\n",
    "df_ds = pd.read_csv('C:\\projetos_data_science\\projeto3\\Credit_card_transactions_India_Simple.csv')"
   ]
  },
  {
   "cell_type": "code",
   "execution_count": 4,
   "metadata": {},
   "outputs": [
    {
     "data": {
      "text/plain": [
       "(26052, 7)"
      ]
     },
     "execution_count": 4,
     "metadata": {},
     "output_type": "execute_result"
    }
   ],
   "source": [
    "# Visualizando o número de linhas e colunas:\n",
    "\n",
    "df_ds.shape"
   ]
  },
  {
   "cell_type": "code",
   "execution_count": 5,
   "metadata": {},
   "outputs": [
    {
     "data": {
      "text/html": [
       "<div>\n",
       "<style scoped>\n",
       "    .dataframe tbody tr th:only-of-type {\n",
       "        vertical-align: middle;\n",
       "    }\n",
       "\n",
       "    .dataframe tbody tr th {\n",
       "        vertical-align: top;\n",
       "    }\n",
       "\n",
       "    .dataframe thead th {\n",
       "        text-align: right;\n",
       "    }\n",
       "</style>\n",
       "<table border=\"1\" class=\"dataframe\">\n",
       "  <thead>\n",
       "    <tr style=\"text-align: right;\">\n",
       "      <th></th>\n",
       "      <th>index</th>\n",
       "      <th>City</th>\n",
       "      <th>Date</th>\n",
       "      <th>Card Type</th>\n",
       "      <th>Exp Type</th>\n",
       "      <th>Gender</th>\n",
       "      <th>Amount</th>\n",
       "    </tr>\n",
       "  </thead>\n",
       "  <tbody>\n",
       "    <tr>\n",
       "      <th>0</th>\n",
       "      <td>0</td>\n",
       "      <td>Delhi, India</td>\n",
       "      <td>29-Oct-14</td>\n",
       "      <td>Gold</td>\n",
       "      <td>Bills</td>\n",
       "      <td>F</td>\n",
       "      <td>82475</td>\n",
       "    </tr>\n",
       "    <tr>\n",
       "      <th>1</th>\n",
       "      <td>1</td>\n",
       "      <td>Greater Mumbai, India</td>\n",
       "      <td>22-Aug-14</td>\n",
       "      <td>Platinum</td>\n",
       "      <td>Bills</td>\n",
       "      <td>F</td>\n",
       "      <td>32555</td>\n",
       "    </tr>\n",
       "    <tr>\n",
       "      <th>2</th>\n",
       "      <td>2</td>\n",
       "      <td>Bengaluru, India</td>\n",
       "      <td>27-Aug-14</td>\n",
       "      <td>Silver</td>\n",
       "      <td>Bills</td>\n",
       "      <td>F</td>\n",
       "      <td>101738</td>\n",
       "    </tr>\n",
       "    <tr>\n",
       "      <th>3</th>\n",
       "      <td>3</td>\n",
       "      <td>Greater Mumbai, India</td>\n",
       "      <td>12-Apr-14</td>\n",
       "      <td>Signature</td>\n",
       "      <td>Bills</td>\n",
       "      <td>F</td>\n",
       "      <td>123424</td>\n",
       "    </tr>\n",
       "    <tr>\n",
       "      <th>4</th>\n",
       "      <td>4</td>\n",
       "      <td>Bengaluru, India</td>\n",
       "      <td>5-May-15</td>\n",
       "      <td>Gold</td>\n",
       "      <td>Bills</td>\n",
       "      <td>F</td>\n",
       "      <td>171574</td>\n",
       "    </tr>\n",
       "  </tbody>\n",
       "</table>\n",
       "</div>"
      ],
      "text/plain": [
       "   index                   City       Date  Card Type Exp Type Gender  Amount\n",
       "0      0           Delhi, India  29-Oct-14       Gold    Bills      F   82475\n",
       "1      1  Greater Mumbai, India  22-Aug-14   Platinum    Bills      F   32555\n",
       "2      2       Bengaluru, India  27-Aug-14     Silver    Bills      F  101738\n",
       "3      3  Greater Mumbai, India  12-Apr-14  Signature    Bills      F  123424\n",
       "4      4       Bengaluru, India   5-May-15       Gold    Bills      F  171574"
      ]
     },
     "execution_count": 5,
     "metadata": {},
     "output_type": "execute_result"
    }
   ],
   "source": [
    "# Leitura dos dados do df_ds:\n",
    "\n",
    "df_ds.head()"
   ]
  },
  {
   "cell_type": "markdown",
   "metadata": {},
   "source": [
    "- metadados do dataframe\n",
    "\n",
    "    - City \n",
    "        - A cidade em que a transação ocorreu. (String)\n",
    "    - Date \n",
    "        - A data da transação. (Date)\n",
    "    - Card Type \n",
    "        - O tipo de cartão de crédito usado para a transação. (String)\n",
    "    - Exp Type \n",
    "        - O tipo de despesa associada à transação. (String)\n",
    "    - Gender\n",
    "        - O sexo do titular do cartão. (String)\n",
    "    - Amount\n",
    "        - O valor da transação. (Número)\n"
   ]
  },
  {
   "cell_type": "markdown",
   "metadata": {},
   "source": [
    "<h4 span style=\"color: red\"> Visualizando as 20 primeiras Cidades (coluna City)</span>"
   ]
  },
  {
   "cell_type": "code",
   "execution_count": 6,
   "metadata": {},
   "outputs": [
    {
     "data": {
      "text/plain": [
       "City\n",
       "Bengaluru, India           3552\n",
       "Greater Mumbai, India      3493\n",
       "Ahmedabad, India           3491\n",
       "Delhi, India               3482\n",
       "Hyderabad, India            784\n",
       "Chennai, India              774\n",
       "Kolkata, India              773\n",
       "Kanpur, India               764\n",
       "Lucknow, India              759\n",
       "Jaipur, India               752\n",
       "Surat, India                749\n",
       "Pune, India                 747\n",
       "Ramnagar, India              19\n",
       "Kalyan-Dombivali, India      19\n",
       "Vijayapura, India            15\n",
       "Udaipur, India               15\n",
       "Pratapgarh, India            14\n",
       "Bathinda, India              14\n",
       "Puliyankudi, India           14\n",
       "Jind, India                  13\n",
       "Name: count, dtype: int64"
      ]
     },
     "execution_count": 6,
     "metadata": {},
     "output_type": "execute_result"
    }
   ],
   "source": [
    "df_ds['City'].value_counts().head(20)"
   ]
  },
  {
   "cell_type": "markdown",
   "metadata": {},
   "source": [
    "<h4 span style=\"color: red\"> Visualizando informações de Data (coluna Date)</span>"
   ]
  },
  {
   "cell_type": "code",
   "execution_count": 7,
   "metadata": {},
   "outputs": [
    {
     "name": "stdout",
     "output_type": "stream",
     "text": [
      "Data inicial: 2013-10-04\n",
      "Data final: 2015-05-26\n",
      "Intervalo: 599 dias\n"
     ]
    }
   ],
   "source": [
    "# Converter para timestamps (datas completas)\n",
    "data_inicial = pd.to_datetime(df_ds['Date'], format=\"%d-%b-%y\").dt.date.min()\n",
    "data_final = pd.to_datetime(df_ds['Date'], format=\"%d-%b-%y\").dt.date.max()\n",
    "\n",
    "# Calcular o intervalo (agora como diferença de datas)\n",
    "intervalo = data_final - data_inicial\n",
    "dias = intervalo.days\n",
    "\n",
    "# Mostrar os resultados\n",
    "print(f\"Data inicial: {data_inicial}\")\n",
    "print(f\"Data final: {data_final}\")\n",
    "print(f\"Intervalo: {dias} dias\")"
   ]
  },
  {
   "cell_type": "markdown",
   "metadata": {},
   "source": [
    "<h4 span style=\"color: red\"> Visualizando os Tipos de Cartões (coluna Card Type)</span>"
   ]
  },
  {
   "cell_type": "code",
   "execution_count": 8,
   "metadata": {},
   "outputs": [
    {
     "data": {
      "text/plain": [
       "<bound method NDFrame.head of Card Type\n",
       "Silver       6840\n",
       "Signature    6447\n",
       "Platinum     6398\n",
       "Gold         6367\n",
       "Name: count, dtype: int64>"
      ]
     },
     "execution_count": 8,
     "metadata": {},
     "output_type": "execute_result"
    }
   ],
   "source": [
    "df_ds['Card Type'].value_counts().head"
   ]
  },
  {
   "cell_type": "markdown",
   "metadata": {},
   "source": [
    "<h4 span style=\"color: red\"> Visualizando os Tipos de Despesas (coluna Exp Type)</span>"
   ]
  },
  {
   "cell_type": "code",
   "execution_count": 9,
   "metadata": {},
   "outputs": [
    {
     "data": {
      "text/plain": [
       "<bound method NDFrame.head of Exp Type\n",
       "Food             5463\n",
       "Fuel             5257\n",
       "Bills            5078\n",
       "Entertainment    4762\n",
       "Grocery          4754\n",
       "Travel            738\n",
       "Name: count, dtype: int64>"
      ]
     },
     "execution_count": 9,
     "metadata": {},
     "output_type": "execute_result"
    }
   ],
   "source": [
    "df_ds['Exp Type'].value_counts().head"
   ]
  },
  {
   "cell_type": "markdown",
   "metadata": {},
   "source": [
    "<h4 span style=\"color: red\"> Visualizando o sexo do usuário do Cartão (coluna Gender)</span>"
   ]
  },
  {
   "cell_type": "code",
   "execution_count": 10,
   "metadata": {},
   "outputs": [
    {
     "data": {
      "text/plain": [
       "<bound method NDFrame.head of Gender\n",
       "F    13680\n",
       "M    12372\n",
       "Name: count, dtype: int64>"
      ]
     },
     "execution_count": 10,
     "metadata": {},
     "output_type": "execute_result"
    }
   ],
   "source": [
    "df_ds['Gender'].value_counts().head"
   ]
  },
  {
   "cell_type": "markdown",
   "metadata": {},
   "source": [
    "<h4 span style=\"color: red\"> Visualizando a faixa de valores do Cartão (coluna Amount)</span>"
   ]
  },
  {
   "cell_type": "code",
   "execution_count": 11,
   "metadata": {},
   "outputs": [
    {
     "name": "stdout",
     "output_type": "stream",
     "text": [
      "Menor valor: 1005\n",
      "Maior valor: 998077\n"
     ]
    }
   ],
   "source": [
    "menor_valor = df_ds['Amount'].min()\n",
    "maior_valor = df_ds['Amount'].max()\n",
    "\n",
    "print(f\"Menor valor: {menor_valor}\")\n",
    "print(f\"Maior valor: {maior_valor}\")"
   ]
  },
  {
   "cell_type": "markdown",
   "metadata": {},
   "source": [
    "<h5 span style=\"color: orange\">Tipos de gastos do sexo Masculino.   (colunas Gender e Exp Type)</span>"
   ]
  },
  {
   "cell_type": "code",
   "execution_count": 12,
   "metadata": {},
   "outputs": [
    {
     "data": {
      "text/plain": [
       "Exp Type\n",
       "Fuel             2640\n",
       "Food             2451\n",
       "Entertainment    2378\n",
       "Grocery          2326\n",
       "Bills            2218\n",
       "Travel            359\n",
       "Name: count, dtype: int64"
      ]
     },
     "execution_count": 12,
     "metadata": {},
     "output_type": "execute_result"
    }
   ],
   "source": [
    "df_ds[df_ds['Gender'] == 'M']['Exp Type'].value_counts()"
   ]
  },
  {
   "cell_type": "markdown",
   "metadata": {},
   "source": [
    "<h5 span style=\"color: orange\">Tipos de gastos do sexo Feminino.   (colunas Gender e Exp Type)</span>"
   ]
  },
  {
   "cell_type": "code",
   "execution_count": 13,
   "metadata": {},
   "outputs": [
    {
     "data": {
      "text/plain": [
       "Exp Type\n",
       "Food             3012\n",
       "Bills            2860\n",
       "Fuel             2617\n",
       "Grocery          2428\n",
       "Entertainment    2384\n",
       "Travel            379\n",
       "Name: count, dtype: int64"
      ]
     },
     "execution_count": 13,
     "metadata": {},
     "output_type": "execute_result"
    }
   ],
   "source": [
    "df_ds[df_ds['Gender'] == 'F']['Exp Type'].value_counts()"
   ]
  },
  {
   "cell_type": "markdown",
   "metadata": {},
   "source": [
    "<h5 span style=\"color: orange\">Tipos de cartão usados pelo sexo Masculino.   (colunas Gender e Card Type)</span>"
   ]
  },
  {
   "cell_type": "code",
   "execution_count": 14,
   "metadata": {},
   "outputs": [
    {
     "data": {
      "text/plain": [
       "Card Type\n",
       "Platinum     3146\n",
       "Gold         3080\n",
       "Signature    3079\n",
       "Silver       3067\n",
       "Name: count, dtype: int64"
      ]
     },
     "execution_count": 14,
     "metadata": {},
     "output_type": "execute_result"
    }
   ],
   "source": [
    "df_ds[df_ds['Gender'] == 'M']['Card Type'].value_counts()"
   ]
  },
  {
   "cell_type": "markdown",
   "metadata": {},
   "source": [
    "<h5 span style=\"color: orange\">Tipos de cartão usados pelo sexo Feminino.   (colunas Gender e Card Type)</span>"
   ]
  },
  {
   "cell_type": "code",
   "execution_count": 15,
   "metadata": {},
   "outputs": [
    {
     "data": {
      "text/plain": [
       "Card Type\n",
       "Silver       3773\n",
       "Signature    3368\n",
       "Gold         3287\n",
       "Platinum     3252\n",
       "Name: count, dtype: int64"
      ]
     },
     "execution_count": 15,
     "metadata": {},
     "output_type": "execute_result"
    }
   ],
   "source": [
    "df_ds[df_ds['Gender'] == 'F']['Card Type'].value_counts()"
   ]
  },
  {
   "cell_type": "markdown",
   "metadata": {},
   "source": [
    "<h5 span style=\"color: orange\">Cidades com gastos do sexo Masculino (12 maiores).   (colunas Gender e City)</span>"
   ]
  },
  {
   "cell_type": "code",
   "execution_count": 16,
   "metadata": {},
   "outputs": [
    {
     "data": {
      "text/plain": [
       "City\n",
       "Ahmedabad, India         1615\n",
       "Bengaluru, India         1592\n",
       "Greater Mumbai, India    1571\n",
       "Delhi, India             1559\n",
       "Kolkata, India            401\n",
       "Chennai, India            400\n",
       "Hyderabad, India          395\n",
       "Pune, India               378\n",
       "Surat, India              374\n",
       "Lucknow, India            373\n",
       "Kanpur, India             372\n",
       "Jaipur, India             353\n",
       "Name: count, dtype: int64"
      ]
     },
     "execution_count": 16,
     "metadata": {},
     "output_type": "execute_result"
    }
   ],
   "source": [
    "df_ds[df_ds['Gender'] == 'M']['City'].value_counts().head(12)"
   ]
  },
  {
   "cell_type": "markdown",
   "metadata": {},
   "source": [
    "<h5 span style=\"color: orange\">Cidades com gastos do sexo Feminino (12 maiores).   (colunas Gender e City)</span>"
   ]
  },
  {
   "cell_type": "code",
   "execution_count": 17,
   "metadata": {},
   "outputs": [
    {
     "data": {
      "text/plain": [
       "City\n",
       "Bengaluru, India         1960\n",
       "Delhi, India             1923\n",
       "Greater Mumbai, India    1922\n",
       "Ahmedabad, India         1876\n",
       "Jaipur, India             399\n",
       "Kanpur, India             392\n",
       "Hyderabad, India          389\n",
       "Lucknow, India            386\n",
       "Surat, India              375\n",
       "Chennai, India            374\n",
       "Kolkata, India            372\n",
       "Pune, India               369\n",
       "Name: count, dtype: int64"
      ]
     },
     "execution_count": 17,
     "metadata": {},
     "output_type": "execute_result"
    }
   ],
   "source": [
    "df_ds[df_ds['Gender'] == 'F']['City'].value_counts().head(12)"
   ]
  },
  {
   "cell_type": "markdown",
   "metadata": {},
   "source": [
    "<h5 span style=\"color: orange\">Maior e menor gasto do sexo Masculino.   (colunas Gender e Amount)</span>"
   ]
  },
  {
   "cell_type": "code",
   "execution_count": 18,
   "metadata": {},
   "outputs": [
    {
     "name": "stdout",
     "output_type": "stream",
     "text": [
      "Menor valor: 1018\n",
      "Maior valor: 299981\n"
     ]
    }
   ],
   "source": [
    "menor_valor = df_ds[df_ds['Gender'] == 'M']['Amount'].min()\n",
    "maior_valor = df_ds[df_ds['Gender'] == 'M']['Amount'].max()\n",
    "\n",
    "print(f\"Menor valor: {menor_valor}\")\n",
    "print(f\"Maior valor: {maior_valor}\")"
   ]
  },
  {
   "cell_type": "markdown",
   "metadata": {},
   "source": [
    "<h5 span style=\"color: orange\">Maior e menor gasto do sexo Feminino.   (colunas Gender e Amount)</span>"
   ]
  },
  {
   "cell_type": "code",
   "execution_count": 19,
   "metadata": {},
   "outputs": [
    {
     "name": "stdout",
     "output_type": "stream",
     "text": [
      "Menor valor: 1005\n",
      "Maior valor: 998077\n"
     ]
    }
   ],
   "source": [
    "menor_valor = df_ds[df_ds['Gender'] == 'F']['Amount'].min()\n",
    "maior_valor = df_ds[df_ds['Gender'] == 'F']['Amount'].max()\n",
    "\n",
    "print(f\"Menor valor: {menor_valor}\")\n",
    "print(f\"Maior valor: {maior_valor}\")"
   ]
  },
  {
   "cell_type": "markdown",
   "metadata": {},
   "source": [
    "<h5 span style=\"color: orange\">Visualizando graficamente os gastos médios por tipo de despesas.   (colunas Exp Type e Amount)</span>"
   ]
  },
  {
   "cell_type": "code",
   "execution_count": 20,
   "metadata": {},
   "outputs": [
    {
     "data": {
      "text/plain": [
       "(Text(0.5, 0, 'Valor médio da transação'), Text(0, 0.5, 'Tipo de Despesa'))"
      ]
     },
     "execution_count": 20,
     "metadata": {},
     "output_type": "execute_result"
    },
    {
     "data": {
      "image/png": "[encoded data removed]",
      "text/plain": [
       "<Figure size 800x800 with 1 Axes>"
      ]
     },
     "metadata": {},
     "output_type": "display_data"
    }
   ],
   "source": [
    "plt.subplots(figsize=(8,8))\n",
    "sns.barplot(y='Exp Type',x='Amount', data = df_ds)\n",
    "plt.title('Gastos médios por Tipo de Despesa')\n",
    "plt.xlabel('Valor médio da transação'), plt.ylabel('Tipo de Despesa')"
   ]
  },
  {
   "cell_type": "code",
   "execution_count": 21,
   "metadata": {},
   "outputs": [
    {
     "data": {
      "text/plain": [
       "Exp Type\n",
       "Bills           178627.90\n",
       "Entertainment   152548.83\n",
       "Grocery         151074.45\n",
       "Food            150965.41\n",
       "Fuel            150111.44\n",
       "Travel          148042.83\n",
       "Name: Amount, dtype: float64"
      ]
     },
     "execution_count": 21,
     "metadata": {},
     "output_type": "execute_result"
    }
   ],
   "source": [
    "df_ds.groupby('Exp Type')['Amount'].mean().sort_values(ascending=False)"
   ]
  },
  {
   "cell_type": "markdown",
   "metadata": {},
   "source": [
    "<h5 span style=\"color: orange\">Visualizando graficamente os gastos médios por tipo de cartão.   (colunas Card Type e Amount)</span>"
   ]
  },
  {
   "cell_type": "code",
   "execution_count": 22,
   "metadata": {},
   "outputs": [
    {
     "data": {
      "text/plain": [
       "(Text(0.5, 0, 'Valor médio da transação'), Text(0, 0.5, 'Tipo de Cartão'))"
      ]
     },
     "execution_count": 22,
     "metadata": {},
     "output_type": "execute_result"
    },
    {
     "data": {
      "image/png": "[encoded data removed]",
      "text/plain": [
       "<Figure size 800x800 with 1 Axes>"
      ]
     },
     "metadata": {},
     "output_type": "display_data"
    }
   ],
   "source": [
    "plt.subplots(figsize=(8,8))\n",
    "sns.barplot(y='Card Type',x='Amount', data = df_ds)\n",
    "plt.title('Gastos médios por Tipo de Cartão')\n",
    "plt.xlabel('Valor médio da transação'), plt.ylabel('Tipo de Cartão')"
   ]
  },
  {
   "cell_type": "code",
   "execution_count": 23,
   "metadata": {},
   "outputs": [
    {
     "data": {
      "text/plain": [
       "Card Type\n",
       "Platinum    157492.81\n",
       "Signature   157133.72\n",
       "Silver      156376.27\n",
       "Gold        154631.62\n",
       "Name: Amount, dtype: float64"
      ]
     },
     "execution_count": 23,
     "metadata": {},
     "output_type": "execute_result"
    }
   ],
   "source": [
    "df_ds.groupby('Card Type')['Amount'].mean().sort_values(ascending=False)"
   ]
  },
  {
   "cell_type": "code",
   "execution_count": 24,
   "metadata": {},
   "outputs": [
    {
     "name": "stdout",
     "output_type": "stream",
     "text": [
      "Card Type      Gold  Platinum  Signature    Silver\n",
      "Gender                                            \n",
      "F         159091.02 163573.26  162709.37 159669.62\n",
      "M         149872.52 151207.50  151034.74 152324.83\n"
     ]
    }
   ],
   "source": [
    "# Agrupar por sexo e tipo de cartão\n",
    "grouped_df = df_ds.groupby(['Gender', 'Card Type'])\n",
    "\n",
    "# Calcular a média da coluna 'Amount' para cada grupo\n",
    "gender_card_means = grouped_df['Amount'].mean().unstack()\n",
    "\n",
    "# Visualizar os resultados\n",
    "print(gender_card_means)\n",
    "\n"
   ]
  },
  {
   "cell_type": "code",
   "execution_count": 25,
   "metadata": {},
   "outputs": [
    {
     "data": {
      "text/plain": [
       "count    26052.00\n",
       "mean    156411.54\n",
       "std     103063.25\n",
       "min       1005.00\n",
       "25%      77120.25\n",
       "50%     153106.50\n",
       "75%     228050.00\n",
       "max     998077.00\n",
       "Name: Amount, dtype: float64"
      ]
     },
     "execution_count": 25,
     "metadata": {},
     "output_type": "execute_result"
    }
   ],
   "source": [
    "# Visualizando todos os dados estatísticos dos valores dos gastos:\n",
    "\n",
    "df_ds['Amount'].describe()"
   ]
  },
  {
   "cell_type": "code",
   "execution_count": 26,
   "metadata": {},
   "outputs": [
    {
     "data": {
      "text/plain": [
       "<Axes: xlabel='Amount', ylabel='Count'>"
      ]
     },
     "execution_count": 26,
     "metadata": {},
     "output_type": "execute_result"
    },
    {
     "data": {
      "image/png": "[encoded data removed]",
      "text/plain": [
       "<Figure size 800x600 with 1 Axes>"
      ]
     },
     "metadata": {},
     "output_type": "display_data"
    }
   ],
   "source": [
    "# Analisando graficamente os valores dos gastos:\n",
    "\n",
    "sns.set_style('darkgrid')\n",
    "figura, graficos = plt.subplots(sharex=True, figsize=(8,6))\n",
    "plt.tight_layout()\n",
    "\n",
    "sns.histplot(data=df_ds, x=df_ds['Amount'])"
   ]
  },
  {
   "cell_type": "code",
   "execution_count": 33,
   "metadata": {},
   "outputs": [
    {
     "data": {
      "text/html": [
       "<div>\n",
       "<style scoped>\n",
       "    .dataframe tbody tr th:only-of-type {\n",
       "        vertical-align: middle;\n",
       "    }\n",
       "\n",
       "    .dataframe tbody tr th {\n",
       "        vertical-align: top;\n",
       "    }\n",
       "\n",
       "    .dataframe thead th {\n",
       "        text-align: right;\n",
       "    }\n",
       "</style>\n",
       "<table border=\"1\" class=\"dataframe\">\n",
       "  <thead>\n",
       "    <tr style=\"text-align: right;\">\n",
       "      <th></th>\n",
       "      <th>index</th>\n",
       "      <th>City</th>\n",
       "      <th>Date</th>\n",
       "      <th>Card Type</th>\n",
       "      <th>Exp Type</th>\n",
       "      <th>Gender</th>\n",
       "      <th>Amount</th>\n",
       "    </tr>\n",
       "  </thead>\n",
       "  <tbody>\n",
       "    <tr>\n",
       "      <th>0</th>\n",
       "      <td>0</td>\n",
       "      <td>Delhi, India</td>\n",
       "      <td>29-Oct-14</td>\n",
       "      <td>Gold</td>\n",
       "      <td>Bills</td>\n",
       "      <td>F</td>\n",
       "      <td>82475</td>\n",
       "    </tr>\n",
       "    <tr>\n",
       "      <th>1</th>\n",
       "      <td>1</td>\n",
       "      <td>Greater Mumbai, India</td>\n",
       "      <td>22-Aug-14</td>\n",
       "      <td>Platinum</td>\n",
       "      <td>Bills</td>\n",
       "      <td>F</td>\n",
       "      <td>32555</td>\n",
       "    </tr>\n",
       "    <tr>\n",
       "      <th>2</th>\n",
       "      <td>2</td>\n",
       "      <td>Bengaluru, India</td>\n",
       "      <td>27-Aug-14</td>\n",
       "      <td>Silver</td>\n",
       "      <td>Bills</td>\n",
       "      <td>F</td>\n",
       "      <td>101738</td>\n",
       "    </tr>\n",
       "    <tr>\n",
       "      <th>3</th>\n",
       "      <td>3</td>\n",
       "      <td>Greater Mumbai, India</td>\n",
       "      <td>12-Apr-14</td>\n",
       "      <td>Signature</td>\n",
       "      <td>Bills</td>\n",
       "      <td>F</td>\n",
       "      <td>123424</td>\n",
       "    </tr>\n",
       "    <tr>\n",
       "      <th>4</th>\n",
       "      <td>4</td>\n",
       "      <td>Bengaluru, India</td>\n",
       "      <td>5-May-15</td>\n",
       "      <td>Gold</td>\n",
       "      <td>Bills</td>\n",
       "      <td>F</td>\n",
       "      <td>171574</td>\n",
       "    </tr>\n",
       "    <tr>\n",
       "      <th>5</th>\n",
       "      <td>5</td>\n",
       "      <td>Delhi, India</td>\n",
       "      <td>8-Sep-14</td>\n",
       "      <td>Silver</td>\n",
       "      <td>Bills</td>\n",
       "      <td>F</td>\n",
       "      <td>100036</td>\n",
       "    </tr>\n",
       "    <tr>\n",
       "      <th>6</th>\n",
       "      <td>6</td>\n",
       "      <td>Delhi, India</td>\n",
       "      <td>24-Feb-15</td>\n",
       "      <td>Gold</td>\n",
       "      <td>Bills</td>\n",
       "      <td>F</td>\n",
       "      <td>143250</td>\n",
       "    </tr>\n",
       "    <tr>\n",
       "      <th>7</th>\n",
       "      <td>7</td>\n",
       "      <td>Greater Mumbai, India</td>\n",
       "      <td>26-Jun-14</td>\n",
       "      <td>Platinum</td>\n",
       "      <td>Bills</td>\n",
       "      <td>F</td>\n",
       "      <td>150980</td>\n",
       "    </tr>\n",
       "    <tr>\n",
       "      <th>8</th>\n",
       "      <td>8</td>\n",
       "      <td>Delhi, India</td>\n",
       "      <td>28-Mar-14</td>\n",
       "      <td>Silver</td>\n",
       "      <td>Bills</td>\n",
       "      <td>F</td>\n",
       "      <td>192247</td>\n",
       "    </tr>\n",
       "    <tr>\n",
       "      <th>9</th>\n",
       "      <td>9</td>\n",
       "      <td>Delhi, India</td>\n",
       "      <td>1-Sep-14</td>\n",
       "      <td>Platinum</td>\n",
       "      <td>Bills</td>\n",
       "      <td>F</td>\n",
       "      <td>67932</td>\n",
       "    </tr>\n",
       "    <tr>\n",
       "      <th>10</th>\n",
       "      <td>10</td>\n",
       "      <td>Delhi, India</td>\n",
       "      <td>22-Jun-14</td>\n",
       "      <td>Platinum</td>\n",
       "      <td>Bills</td>\n",
       "      <td>F</td>\n",
       "      <td>280061</td>\n",
       "    </tr>\n",
       "    <tr>\n",
       "      <th>11</th>\n",
       "      <td>11</td>\n",
       "      <td>Greater Mumbai, India</td>\n",
       "      <td>7-Dec-13</td>\n",
       "      <td>Signature</td>\n",
       "      <td>Bills</td>\n",
       "      <td>F</td>\n",
       "      <td>278036</td>\n",
       "    </tr>\n",
       "    <tr>\n",
       "      <th>12</th>\n",
       "      <td>12</td>\n",
       "      <td>Greater Mumbai, India</td>\n",
       "      <td>7-Aug-14</td>\n",
       "      <td>Gold</td>\n",
       "      <td>Bills</td>\n",
       "      <td>F</td>\n",
       "      <td>19226</td>\n",
       "    </tr>\n",
       "    <tr>\n",
       "      <th>13</th>\n",
       "      <td>13</td>\n",
       "      <td>Delhi, India</td>\n",
       "      <td>27-Apr-14</td>\n",
       "      <td>Signature</td>\n",
       "      <td>Bills</td>\n",
       "      <td>F</td>\n",
       "      <td>254359</td>\n",
       "    </tr>\n",
       "    <tr>\n",
       "      <th>14</th>\n",
       "      <td>14</td>\n",
       "      <td>Greater Mumbai, India</td>\n",
       "      <td>15-Aug-14</td>\n",
       "      <td>Signature</td>\n",
       "      <td>Bills</td>\n",
       "      <td>F</td>\n",
       "      <td>302834</td>\n",
       "    </tr>\n",
       "    <tr>\n",
       "      <th>15</th>\n",
       "      <td>15</td>\n",
       "      <td>Greater Mumbai, India</td>\n",
       "      <td>28-Nov-14</td>\n",
       "      <td>Platinum</td>\n",
       "      <td>Bills</td>\n",
       "      <td>F</td>\n",
       "      <td>647116</td>\n",
       "    </tr>\n",
       "    <tr>\n",
       "      <th>16</th>\n",
       "      <td>16</td>\n",
       "      <td>Greater Mumbai, India</td>\n",
       "      <td>14-Jun-14</td>\n",
       "      <td>Signature</td>\n",
       "      <td>Bills</td>\n",
       "      <td>F</td>\n",
       "      <td>421878</td>\n",
       "    </tr>\n",
       "    <tr>\n",
       "      <th>17</th>\n",
       "      <td>17</td>\n",
       "      <td>Greater Mumbai, India</td>\n",
       "      <td>30-Mar-15</td>\n",
       "      <td>Gold</td>\n",
       "      <td>Bills</td>\n",
       "      <td>F</td>\n",
       "      <td>986379</td>\n",
       "    </tr>\n",
       "    <tr>\n",
       "      <th>22</th>\n",
       "      <td>22</td>\n",
       "      <td>Greater Mumbai, India</td>\n",
       "      <td>27-Mar-15</td>\n",
       "      <td>Silver</td>\n",
       "      <td>Bills</td>\n",
       "      <td>F</td>\n",
       "      <td>467014</td>\n",
       "    </tr>\n",
       "    <tr>\n",
       "      <th>25</th>\n",
       "      <td>25</td>\n",
       "      <td>Delhi, India</td>\n",
       "      <td>27-Sep-14</td>\n",
       "      <td>Silver</td>\n",
       "      <td>Bills</td>\n",
       "      <td>F</td>\n",
       "      <td>622170</td>\n",
       "    </tr>\n",
       "    <tr>\n",
       "      <th>1439</th>\n",
       "      <td>1439</td>\n",
       "      <td>Greater Mumbai, India</td>\n",
       "      <td>23-Dec-13</td>\n",
       "      <td>Gold</td>\n",
       "      <td>Food</td>\n",
       "      <td>M</td>\n",
       "      <td>260246</td>\n",
       "    </tr>\n",
       "    <tr>\n",
       "      <th>1441</th>\n",
       "      <td>1441</td>\n",
       "      <td>Greater Mumbai, India</td>\n",
       "      <td>22-Jul-14</td>\n",
       "      <td>Signature</td>\n",
       "      <td>Food</td>\n",
       "      <td>M</td>\n",
       "      <td>155937</td>\n",
       "    </tr>\n",
       "    <tr>\n",
       "      <th>1443</th>\n",
       "      <td>1443</td>\n",
       "      <td>Ahmedabad, India</td>\n",
       "      <td>1-May-14</td>\n",
       "      <td>Platinum</td>\n",
       "      <td>Food</td>\n",
       "      <td>M</td>\n",
       "      <td>61531</td>\n",
       "    </tr>\n",
       "    <tr>\n",
       "      <th>1447</th>\n",
       "      <td>1447</td>\n",
       "      <td>Bengaluru, India</td>\n",
       "      <td>9-Dec-14</td>\n",
       "      <td>Gold</td>\n",
       "      <td>Food</td>\n",
       "      <td>M</td>\n",
       "      <td>46535</td>\n",
       "    </tr>\n",
       "    <tr>\n",
       "      <th>1448</th>\n",
       "      <td>1448</td>\n",
       "      <td>Ahmedabad, India</td>\n",
       "      <td>8-Sep-14</td>\n",
       "      <td>Gold</td>\n",
       "      <td>Food</td>\n",
       "      <td>M</td>\n",
       "      <td>120827</td>\n",
       "    </tr>\n",
       "    <tr>\n",
       "      <th>1449</th>\n",
       "      <td>1449</td>\n",
       "      <td>Ahmedabad, India</td>\n",
       "      <td>20-Jan-14</td>\n",
       "      <td>Gold</td>\n",
       "      <td>Food</td>\n",
       "      <td>M</td>\n",
       "      <td>194872</td>\n",
       "    </tr>\n",
       "    <tr>\n",
       "      <th>1450</th>\n",
       "      <td>1450</td>\n",
       "      <td>Bengaluru, India</td>\n",
       "      <td>22-Apr-14</td>\n",
       "      <td>Platinum</td>\n",
       "      <td>Food</td>\n",
       "      <td>M</td>\n",
       "      <td>282158</td>\n",
       "    </tr>\n",
       "    <tr>\n",
       "      <th>1454</th>\n",
       "      <td>1454</td>\n",
       "      <td>Greater Mumbai, India</td>\n",
       "      <td>16-Aug-14</td>\n",
       "      <td>Platinum</td>\n",
       "      <td>Food</td>\n",
       "      <td>M</td>\n",
       "      <td>120872</td>\n",
       "    </tr>\n",
       "    <tr>\n",
       "      <th>1456</th>\n",
       "      <td>1456</td>\n",
       "      <td>Bengaluru, India</td>\n",
       "      <td>30-May-14</td>\n",
       "      <td>Platinum</td>\n",
       "      <td>Food</td>\n",
       "      <td>M</td>\n",
       "      <td>178023</td>\n",
       "    </tr>\n",
       "    <tr>\n",
       "      <th>1457</th>\n",
       "      <td>1457</td>\n",
       "      <td>Delhi, India</td>\n",
       "      <td>25-Dec-14</td>\n",
       "      <td>Platinum</td>\n",
       "      <td>Food</td>\n",
       "      <td>M</td>\n",
       "      <td>190596</td>\n",
       "    </tr>\n",
       "    <tr>\n",
       "      <th>1459</th>\n",
       "      <td>1459</td>\n",
       "      <td>Delhi, India</td>\n",
       "      <td>30-Nov-13</td>\n",
       "      <td>Gold</td>\n",
       "      <td>Food</td>\n",
       "      <td>M</td>\n",
       "      <td>12912</td>\n",
       "    </tr>\n",
       "    <tr>\n",
       "      <th>1467</th>\n",
       "      <td>1467</td>\n",
       "      <td>Delhi, India</td>\n",
       "      <td>15-Apr-15</td>\n",
       "      <td>Signature</td>\n",
       "      <td>Food</td>\n",
       "      <td>M</td>\n",
       "      <td>200079</td>\n",
       "    </tr>\n",
       "    <tr>\n",
       "      <th>1468</th>\n",
       "      <td>1468</td>\n",
       "      <td>Greater Mumbai, India</td>\n",
       "      <td>7-Mar-14</td>\n",
       "      <td>Signature</td>\n",
       "      <td>Food</td>\n",
       "      <td>M</td>\n",
       "      <td>254660</td>\n",
       "    </tr>\n",
       "    <tr>\n",
       "      <th>1470</th>\n",
       "      <td>1470</td>\n",
       "      <td>Delhi, India</td>\n",
       "      <td>14-Jan-14</td>\n",
       "      <td>Signature</td>\n",
       "      <td>Food</td>\n",
       "      <td>M</td>\n",
       "      <td>55986</td>\n",
       "    </tr>\n",
       "    <tr>\n",
       "      <th>1473</th>\n",
       "      <td>1473</td>\n",
       "      <td>Bengaluru, India</td>\n",
       "      <td>9-Mar-14</td>\n",
       "      <td>Silver</td>\n",
       "      <td>Food</td>\n",
       "      <td>M</td>\n",
       "      <td>26914</td>\n",
       "    </tr>\n",
       "    <tr>\n",
       "      <th>1477</th>\n",
       "      <td>1477</td>\n",
       "      <td>Ahmedabad, India</td>\n",
       "      <td>21-Apr-15</td>\n",
       "      <td>Silver</td>\n",
       "      <td>Food</td>\n",
       "      <td>M</td>\n",
       "      <td>181913</td>\n",
       "    </tr>\n",
       "    <tr>\n",
       "      <th>1479</th>\n",
       "      <td>1479</td>\n",
       "      <td>Delhi, India</td>\n",
       "      <td>31-Oct-13</td>\n",
       "      <td>Signature</td>\n",
       "      <td>Food</td>\n",
       "      <td>M</td>\n",
       "      <td>61684</td>\n",
       "    </tr>\n",
       "    <tr>\n",
       "      <th>1482</th>\n",
       "      <td>1482</td>\n",
       "      <td>Bengaluru, India</td>\n",
       "      <td>18-Dec-14</td>\n",
       "      <td>Silver</td>\n",
       "      <td>Food</td>\n",
       "      <td>M</td>\n",
       "      <td>17774</td>\n",
       "    </tr>\n",
       "    <tr>\n",
       "      <th>1493</th>\n",
       "      <td>1493</td>\n",
       "      <td>Ahmedabad, India</td>\n",
       "      <td>19-Feb-15</td>\n",
       "      <td>Silver</td>\n",
       "      <td>Food</td>\n",
       "      <td>M</td>\n",
       "      <td>112840</td>\n",
       "    </tr>\n",
       "    <tr>\n",
       "      <th>1495</th>\n",
       "      <td>1495</td>\n",
       "      <td>Bengaluru, India</td>\n",
       "      <td>2-Dec-13</td>\n",
       "      <td>Silver</td>\n",
       "      <td>Food</td>\n",
       "      <td>M</td>\n",
       "      <td>206702</td>\n",
       "    </tr>\n",
       "  </tbody>\n",
       "</table>\n",
       "</div>"
      ],
      "text/plain": [
       "      index                   City       Date  Card Type Exp Type Gender  \\\n",
       "0         0           Delhi, India  29-Oct-14       Gold    Bills      F   \n",
       "1         1  Greater Mumbai, India  22-Aug-14   Platinum    Bills      F   \n",
       "2         2       Bengaluru, India  27-Aug-14     Silver    Bills      F   \n",
       "3         3  Greater Mumbai, India  12-Apr-14  Signature    Bills      F   \n",
       "4         4       Bengaluru, India   5-May-15       Gold    Bills      F   \n",
       "5         5           Delhi, India   8-Sep-14     Silver    Bills      F   \n",
       "6         6           Delhi, India  24-Feb-15       Gold    Bills      F   \n",
       "7         7  Greater Mumbai, India  26-Jun-14   Platinum    Bills      F   \n",
       "8         8           Delhi, India  28-Mar-14     Silver    Bills      F   \n",
       "9         9           Delhi, India   1-Sep-14   Platinum    Bills      F   \n",
       "10       10           Delhi, India  22-Jun-14   Platinum    Bills      F   \n",
       "11       11  Greater Mumbai, India   7-Dec-13  Signature    Bills      F   \n",
       "12       12  Greater Mumbai, India   7-Aug-14       Gold    Bills      F   \n",
       "13       13           Delhi, India  27-Apr-14  Signature    Bills      F   \n",
       "14       14  Greater Mumbai, India  15-Aug-14  Signature    Bills      F   \n",
       "15       15  Greater Mumbai, India  28-Nov-14   Platinum    Bills      F   \n",
       "16       16  Greater Mumbai, India  14-Jun-14  Signature    Bills      F   \n",
       "17       17  Greater Mumbai, India  30-Mar-15       Gold    Bills      F   \n",
       "22       22  Greater Mumbai, India  27-Mar-15     Silver    Bills      F   \n",
       "25       25           Delhi, India  27-Sep-14     Silver    Bills      F   \n",
       "1439   1439  Greater Mumbai, India  23-Dec-13       Gold     Food      M   \n",
       "1441   1441  Greater Mumbai, India  22-Jul-14  Signature     Food      M   \n",
       "1443   1443       Ahmedabad, India   1-May-14   Platinum     Food      M   \n",
       "1447   1447       Bengaluru, India   9-Dec-14       Gold     Food      M   \n",
       "1448   1448       Ahmedabad, India   8-Sep-14       Gold     Food      M   \n",
       "1449   1449       Ahmedabad, India  20-Jan-14       Gold     Food      M   \n",
       "1450   1450       Bengaluru, India  22-Apr-14   Platinum     Food      M   \n",
       "1454   1454  Greater Mumbai, India  16-Aug-14   Platinum     Food      M   \n",
       "1456   1456       Bengaluru, India  30-May-14   Platinum     Food      M   \n",
       "1457   1457           Delhi, India  25-Dec-14   Platinum     Food      M   \n",
       "1459   1459           Delhi, India  30-Nov-13       Gold     Food      M   \n",
       "1467   1467           Delhi, India  15-Apr-15  Signature     Food      M   \n",
       "1468   1468  Greater Mumbai, India   7-Mar-14  Signature     Food      M   \n",
       "1470   1470           Delhi, India  14-Jan-14  Signature     Food      M   \n",
       "1473   1473       Bengaluru, India   9-Mar-14     Silver     Food      M   \n",
       "1477   1477       Ahmedabad, India  21-Apr-15     Silver     Food      M   \n",
       "1479   1479           Delhi, India  31-Oct-13  Signature     Food      M   \n",
       "1482   1482       Bengaluru, India  18-Dec-14     Silver     Food      M   \n",
       "1493   1493       Ahmedabad, India  19-Feb-15     Silver     Food      M   \n",
       "1495   1495       Bengaluru, India   2-Dec-13     Silver     Food      M   \n",
       "\n",
       "      Amount  \n",
       "0      82475  \n",
       "1      32555  \n",
       "2     101738  \n",
       "3     123424  \n",
       "4     171574  \n",
       "5     100036  \n",
       "6     143250  \n",
       "7     150980  \n",
       "8     192247  \n",
       "9      67932  \n",
       "10    280061  \n",
       "11    278036  \n",
       "12     19226  \n",
       "13    254359  \n",
       "14    302834  \n",
       "15    647116  \n",
       "16    421878  \n",
       "17    986379  \n",
       "22    467014  \n",
       "25    622170  \n",
       "1439  260246  \n",
       "1441  155937  \n",
       "1443   61531  \n",
       "1447   46535  \n",
       "1448  120827  \n",
       "1449  194872  \n",
       "1450  282158  \n",
       "1454  120872  \n",
       "1456  178023  \n",
       "1457  190596  \n",
       "1459   12912  \n",
       "1467  200079  \n",
       "1468  254660  \n",
       "1470   55986  \n",
       "1473   26914  \n",
       "1477  181913  \n",
       "1479   61684  \n",
       "1482   17774  \n",
       "1493  112840  \n",
       "1495  206702  "
      ]
     },
     "execution_count": 33,
     "metadata": {},
     "output_type": "execute_result"
    }
   ],
   "source": [
    "# grouped_df_card = df_ds.groupby('Card Type')\n",
    "# grouped_df_gender = grouped_df_card.groupby('Gender')\n",
    "# grouped_df_gender.head()\n",
    "\n",
    "grouped_df_gender = df_ds.groupby(['Card Type', 'Gender'])\n",
    "grouped_df_gender.head()\n",
    "\n"
   ]
  },
  {
   "cell_type": "code",
   "execution_count": 31,
   "metadata": {},
   "outputs": [
    {
     "data": {
      "text/html": [
       "<div>\n",
       "<style scoped>\n",
       "    .dataframe tbody tr th:only-of-type {\n",
       "        vertical-align: middle;\n",
       "    }\n",
       "\n",
       "    .dataframe tbody tr th {\n",
       "        vertical-align: top;\n",
       "    }\n",
       "\n",
       "    .dataframe thead th {\n",
       "        text-align: right;\n",
       "    }\n",
       "</style>\n",
       "<table border=\"1\" class=\"dataframe\">\n",
       "  <thead>\n",
       "    <tr style=\"text-align: right;\">\n",
       "      <th></th>\n",
       "      <th>Card Type</th>\n",
       "      <th>Gold</th>\n",
       "      <th>Platinum</th>\n",
       "      <th>Signature</th>\n",
       "      <th>Silver</th>\n",
       "    </tr>\n",
       "    <tr>\n",
       "      <th>City</th>\n",
       "      <th>Gender</th>\n",
       "      <th></th>\n",
       "      <th></th>\n",
       "      <th></th>\n",
       "      <th></th>\n",
       "    </tr>\n",
       "  </thead>\n",
       "  <tbody>\n",
       "    <tr>\n",
       "      <th rowspan=\"2\" valign=\"top\">Achalpur, India</th>\n",
       "      <th>F</th>\n",
       "      <td>132576.00</td>\n",
       "      <td>178612.00</td>\n",
       "      <td>216180.00</td>\n",
       "      <td>201032.00</td>\n",
       "    </tr>\n",
       "    <tr>\n",
       "      <th>M</th>\n",
       "      <td>207420.00</td>\n",
       "      <td>NaN</td>\n",
       "      <td>165412.50</td>\n",
       "      <td>NaN</td>\n",
       "    </tr>\n",
       "    <tr>\n",
       "      <th rowspan=\"2\" valign=\"top\">Adilabad, India</th>\n",
       "      <th>F</th>\n",
       "      <td>NaN</td>\n",
       "      <td>278272.00</td>\n",
       "      <td>242775.00</td>\n",
       "      <td>122336.00</td>\n",
       "    </tr>\n",
       "    <tr>\n",
       "      <th>M</th>\n",
       "      <td>49020.00</td>\n",
       "      <td>108313.00</td>\n",
       "      <td>149233.67</td>\n",
       "      <td>NaN</td>\n",
       "    </tr>\n",
       "    <tr>\n",
       "      <th rowspan=\"2\" valign=\"top\">Adityapur, India</th>\n",
       "      <th>F</th>\n",
       "      <td>209829.00</td>\n",
       "      <td>NaN</td>\n",
       "      <td>296944.00</td>\n",
       "      <td>NaN</td>\n",
       "    </tr>\n",
       "    <tr>\n",
       "      <th>M</th>\n",
       "      <td>138440.50</td>\n",
       "      <td>17703.00</td>\n",
       "      <td>NaN</td>\n",
       "      <td>162636.00</td>\n",
       "    </tr>\n",
       "    <tr>\n",
       "      <th rowspan=\"2\" valign=\"top\">Adoni, India</th>\n",
       "      <th>F</th>\n",
       "      <td>195610.50</td>\n",
       "      <td>40082.00</td>\n",
       "      <td>169621.00</td>\n",
       "      <td>196409.00</td>\n",
       "    </tr>\n",
       "    <tr>\n",
       "      <th>M</th>\n",
       "      <td>239411.00</td>\n",
       "      <td>NaN</td>\n",
       "      <td>171101.00</td>\n",
       "      <td>NaN</td>\n",
       "    </tr>\n",
       "    <tr>\n",
       "      <th rowspan=\"2\" valign=\"top\">Adoor, India</th>\n",
       "      <th>F</th>\n",
       "      <td>6536.00</td>\n",
       "      <td>NaN</td>\n",
       "      <td>150978.50</td>\n",
       "      <td>8944.00</td>\n",
       "    </tr>\n",
       "    <tr>\n",
       "      <th>M</th>\n",
       "      <td>NaN</td>\n",
       "      <td>131051.50</td>\n",
       "      <td>68185.00</td>\n",
       "      <td>NaN</td>\n",
       "    </tr>\n",
       "    <tr>\n",
       "      <th rowspan=\"2\" valign=\"top\">Afzalpur, India</th>\n",
       "      <th>F</th>\n",
       "      <td>54048.00</td>\n",
       "      <td>156617.00</td>\n",
       "      <td>153521.33</td>\n",
       "      <td>NaN</td>\n",
       "    </tr>\n",
       "    <tr>\n",
       "      <th>M</th>\n",
       "      <td>35627.00</td>\n",
       "      <td>64737.00</td>\n",
       "      <td>3542.00</td>\n",
       "      <td>NaN</td>\n",
       "    </tr>\n",
       "    <tr>\n",
       "      <th>Agartala, India</th>\n",
       "      <th>M</th>\n",
       "      <td>NaN</td>\n",
       "      <td>54469.00</td>\n",
       "      <td>NaN</td>\n",
       "      <td>194031.00</td>\n",
       "    </tr>\n",
       "    <tr>\n",
       "      <th>Agra, India</th>\n",
       "      <th>M</th>\n",
       "      <td>NaN</td>\n",
       "      <td>142947.50</td>\n",
       "      <td>NaN</td>\n",
       "      <td>NaN</td>\n",
       "    </tr>\n",
       "    <tr>\n",
       "      <th rowspan=\"2\" valign=\"top\">Ahmedabad, India</th>\n",
       "      <th>F</th>\n",
       "      <td>173192.06</td>\n",
       "      <td>174406.06</td>\n",
       "      <td>166164.41</td>\n",
       "      <td>167409.08</td>\n",
       "    </tr>\n",
       "    <tr>\n",
       "      <th>M</th>\n",
       "      <td>154030.76</td>\n",
       "      <td>151704.74</td>\n",
       "      <td>153828.17</td>\n",
       "      <td>156400.58</td>\n",
       "    </tr>\n",
       "    <tr>\n",
       "      <th rowspan=\"2\" valign=\"top\">Ahmednagar, India</th>\n",
       "      <th>F</th>\n",
       "      <td>140295.00</td>\n",
       "      <td>NaN</td>\n",
       "      <td>NaN</td>\n",
       "      <td>NaN</td>\n",
       "    </tr>\n",
       "    <tr>\n",
       "      <th>M</th>\n",
       "      <td>181093.00</td>\n",
       "      <td>NaN</td>\n",
       "      <td>NaN</td>\n",
       "      <td>53901.00</td>\n",
       "    </tr>\n",
       "    <tr>\n",
       "      <th rowspan=\"2\" valign=\"top\">Aizawl, India</th>\n",
       "      <th>F</th>\n",
       "      <td>NaN</td>\n",
       "      <td>NaN</td>\n",
       "      <td>167467.00</td>\n",
       "      <td>NaN</td>\n",
       "    </tr>\n",
       "    <tr>\n",
       "      <th>M</th>\n",
       "      <td>215508.00</td>\n",
       "      <td>NaN</td>\n",
       "      <td>219299.00</td>\n",
       "      <td>241529.00</td>\n",
       "    </tr>\n",
       "  </tbody>\n",
       "</table>\n",
       "</div>"
      ],
      "text/plain": [
       "Card Type                     Gold  Platinum  Signature    Silver\n",
       "City              Gender                                         \n",
       "Achalpur, India   F      132576.00 178612.00  216180.00 201032.00\n",
       "                  M      207420.00       NaN  165412.50       NaN\n",
       "Adilabad, India   F            NaN 278272.00  242775.00 122336.00\n",
       "                  M       49020.00 108313.00  149233.67       NaN\n",
       "Adityapur, India  F      209829.00       NaN  296944.00       NaN\n",
       "                  M      138440.50  17703.00        NaN 162636.00\n",
       "Adoni, India      F      195610.50  40082.00  169621.00 196409.00\n",
       "                  M      239411.00       NaN  171101.00       NaN\n",
       "Adoor, India      F        6536.00       NaN  150978.50   8944.00\n",
       "                  M            NaN 131051.50   68185.00       NaN\n",
       "Afzalpur, India   F       54048.00 156617.00  153521.33       NaN\n",
       "                  M       35627.00  64737.00    3542.00       NaN\n",
       "Agartala, India   M            NaN  54469.00        NaN 194031.00\n",
       "Agra, India       M            NaN 142947.50        NaN       NaN\n",
       "Ahmedabad, India  F      173192.06 174406.06  166164.41 167409.08\n",
       "                  M      154030.76 151704.74  153828.17 156400.58\n",
       "Ahmednagar, India F      140295.00       NaN        NaN       NaN\n",
       "                  M      181093.00       NaN        NaN  53901.00\n",
       "Aizawl, India     F            NaN       NaN  167467.00       NaN\n",
       "                  M      215508.00       NaN  219299.00 241529.00"
      ]
     },
     "execution_count": 31,
     "metadata": {},
     "output_type": "execute_result"
    }
   ],
   "source": [
    "# Agrupar por sexo, tipo de cartão e cidade\n",
    "grouped_df = df_ds.groupby(['City', 'Gender', 'Card Type'])\n",
    "\n",
    "# Calcular a média da coluna 'Amount' para cada grupo\n",
    "gender_card_means = grouped_df['Amount'].mean().unstack()\n",
    "\n",
    "# Mostrar apenas os 20 primeiros resultados\n",
    "gender_card_means.head(20)\n"
   ]
  },
  {
   "cell_type": "markdown",
   "metadata": {},
   "source": [
    "# Conclusão\n",
    "\n",
    "Depois de analisar os dados sobre as transações de cartão de crédito na Índia obtidas na plataforma Kaggle, podemos sugerir o lançamento do Cartão de Crédito TAJ MAHAL.\n",
    "\n",
    "Algumas informações levantadas na análise dos dados:\n",
    "\n",
    "- A análise foi realizada num período de 599 dias (04/10/2013 à 26/05/2015);\n",
    "- 77,23% das transações estão concentradas em 12 cidades, sendo que as 4 primeiras concentram as maiores transações, tanto dos homens como das mulheres, em ordem diversa;\n",
    "- Os homens gastam mais com combustíveis e comida, enquanto as mulheres com comida e contas diversas;\n",
    "- O cartão preferido dos homens é o Platinum e o das mulheres é o Silver;\n",
    "- O valor da menor transação é similar entre homens e mulheres, em torno de 1015 rupias indianas.     Já o valor da maior transação dos homens, está dentro da média, em torno de 300 mil rupias indianas, mas o valor das mulheres é de 999 mil rupias indianas;\n",
    "- O volume de transações das mulheres é 10,5% maior que dos homens;\n",
    "- Quanto aos tipos de gastos, no geral gasta-se mais com comida e menos com viagens;\n",
    "- Quanto aos tipos de cartão, há um equilíbrio entre os 4 tipos;\n",
    "- 30% das transações são em torno de 900 mil rupias indianas (R$ 54.900,00).\n",
    "\n",
    "A moeda da Índia é a Rupia Indiana.\n",
    "Uma Rupia Índiana equivale a 0,061 Reais (Cotação de 01/04/24).\n",
    "Sugestão de nome para um novo Cartão de Crédito = TAJ MAHAL.\n",
    "Cidades sugeridas para lançar o Cartão de Crédito: Bengaluru, Greater Mumbai, Ahmedabad e Delhi.\n",
    "Cartões sugeridos: Platinum para os homens e Silver para as mulheres, com limite de 300 mil rupias indianas (R$ 18.300,00)."
   ]
  }
 ],
 "metadata": {
  "kernelspec": {
   "display_name": "etl",
   "language": "python",
   "name": "python3"
  },
  "language_info": {
   "codemirror_mode": {
    "name": "ipython",
    "version": 3
   },
   "file_extension": ".py",
   "mimetype": "text/x-python",
   "name": "python",
   "nbconvert_exporter": "python",
   "pygments_lexer": "ipython3",
   "version": "3.11.4"
  }
 },
 "nbformat": 4,
 "nbformat_minor": 2
}
